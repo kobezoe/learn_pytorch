{
 "cells": [
  {
   "cell_type": "code",
   "execution_count": 1,
   "id": "5e595fb6-f829-48a9-b21e-bc788dd6776d",
   "metadata": {},
   "outputs": [],
   "source": [
    "import numpy as np\n",
    "import torch\n",
    "from torch.utils import data\n",
    "from d2l import torch as d2l\n",
    "\n",
    "true_w = torch.tensor([2, -3.4])\n",
    "true_b = 4.2\n",
    "features, labels = d2l.synthetic_data(true_w, true_b, 1000)"
   ]
  },
  {
   "cell_type": "code",
   "execution_count": 2,
   "id": "642c2e14-1003-4c64-a65e-bb5aadcca53c",
   "metadata": {},
   "outputs": [],
   "source": [
    "def load_array(data_arrays, batch_size, is_train=True):  #@save\n",
    "    \"\"\"构造一个PyTorch数据迭代器\"\"\"\n",
    "    dataset = data.TensorDataset(*data_arrays)\n",
    "    return data.DataLoader(dataset, batch_size, shuffle=is_train)\n",
    "\n",
    "batch_size = 10\n",
    "data_iter = load_array((features, labels), batch_size)"
   ]
  },
  {
   "cell_type": "code",
   "execution_count": 3,
   "id": "6f49bede-546b-4999-92e1-870e39eabb2c",
   "metadata": {},
   "outputs": [
    {
     "data": {
      "text/plain": [
       "[tensor([[ 0.0424, -0.3804],\n",
       "         [ 1.6127, -0.1629],\n",
       "         [ 0.4307, -0.8335],\n",
       "         [ 0.8947, -0.2610],\n",
       "         [-0.8985, -0.1640],\n",
       "         [-0.7958,  1.6937],\n",
       "         [ 0.3877, -0.2677],\n",
       "         [ 1.2838, -0.5099],\n",
       "         [-0.6206, -1.0721],\n",
       "         [ 0.9120,  0.9245]]),\n",
       " tensor([[ 5.5858],\n",
       "         [ 7.9795],\n",
       "         [ 7.8801],\n",
       "         [ 6.8842],\n",
       "         [ 2.9559],\n",
       "         [-3.1468],\n",
       "         [ 5.8954],\n",
       "         [ 8.4909],\n",
       "         [ 6.6129],\n",
       "         [ 2.8869]])]"
      ]
     },
     "execution_count": 3,
     "metadata": {},
     "output_type": "execute_result"
    }
   ],
   "source": [
    "next(iter(data_iter))"
   ]
  },
  {
   "cell_type": "code",
   "execution_count": 4,
   "id": "c734a741-020b-4380-bee6-a198f41dd7d7",
   "metadata": {},
   "outputs": [],
   "source": [
    "# nn是神经网络的缩写\n",
    "from torch import nn\n",
    "\n",
    "net = nn.Sequential(nn.Linear(2, 1))"
   ]
  },
  {
   "cell_type": "code",
   "execution_count": 7,
   "id": "3d6f90ff-6eec-4f85-bd15-851d65885ce5",
   "metadata": {},
   "outputs": [],
   "source": [
    "# normal_是一个就地操作，意味着它会直接修改权重的值，而不是创建一个新的副本。"
   ]
  },
  {
   "cell_type": "code",
   "execution_count": 10,
   "id": "12f96a42-a7f2-4185-bd6f-b429ec05f087",
   "metadata": {},
   "outputs": [],
   "source": [
    "# 初始化参数"
   ]
  },
  {
   "cell_type": "code",
   "execution_count": 11,
   "id": "3ec4bc5b-f461-4c9b-a02b-ec4a272f4d5b",
   "metadata": {},
   "outputs": [
    {
     "data": {
      "text/plain": [
       "tensor([0.])"
      ]
     },
     "execution_count": 11,
     "metadata": {},
     "output_type": "execute_result"
    }
   ],
   "source": [
    "net[0].weight.data.normal_(0, 0.01)\n",
    "net[0].bias.data.fill_(0)"
   ]
  },
  {
   "cell_type": "code",
   "execution_count": 12,
   "id": "4c02c561-6e9e-4c7a-9631-f84b61f0f1ff",
   "metadata": {},
   "outputs": [],
   "source": [
    "# 优化器设置"
   ]
  },
  {
   "cell_type": "code",
   "execution_count": 13,
   "id": "67f2d01c-63f3-4038-9c5f-350e8faaec36",
   "metadata": {},
   "outputs": [],
   "source": [
    "trainer = torch.optim.SGD(net.parameters(), lr=0.03)"
   ]
  },
  {
   "cell_type": "code",
   "execution_count": 14,
   "id": "0d74cead-2262-4dac-b651-53db3e4e6428",
   "metadata": {},
   "outputs": [],
   "source": [
    "# 损失函数的设置"
   ]
  },
  {
   "cell_type": "code",
   "execution_count": 16,
   "id": "a215c573-3614-4950-bc79-64e5faf20f86",
   "metadata": {},
   "outputs": [],
   "source": [
    "loss = nn.MSELoss()"
   ]
  },
  {
   "cell_type": "code",
   "execution_count": 17,
   "id": "9433c7ce-8248-42e8-9c00-bd0da1fadfe0",
   "metadata": {},
   "outputs": [],
   "source": [
    "# 训练"
   ]
  },
  {
   "cell_type": "code",
   "execution_count": 18,
   "id": "d9619e8f-3e0b-4510-9396-5343b12afe2e",
   "metadata": {
    "jupyter": {
     "source_hidden": true
    }
   },
   "outputs": [
    {
     "name": "stdout",
     "output_type": "stream",
     "text": [
      "epoch 1, loss 0.000256\n",
      "epoch 2, loss 0.000093\n",
      "epoch 3, loss 0.000094\n"
     ]
    }
   ],
   "source": [
    "num_epochs = 3\n",
    "for epoch in range(num_epochs):\n",
    "    for X, y in data_iter:\n",
    "        l = loss(net(X) ,y)\n",
    "        trainer.zero_grad()\n",
    "        l.backward()\n",
    "        trainer.step()\n",
    "    l = loss(net(features), labels)\n",
    "    print(f'epoch {epoch + 1}, loss {l:f}')"
   ]
  },
  {
   "cell_type": "code",
   "execution_count": 19,
   "id": "67fa7b68-e1ec-4d07-932d-f1405674099e",
   "metadata": {},
   "outputs": [
    {
     "name": "stdout",
     "output_type": "stream",
     "text": [
      "w的估计误差： tensor([-0.0005,  0.0008])\n",
      "b的估计误差： tensor([9.0599e-05])\n"
     ]
    }
   ],
   "source": [
    "w = net[0].weight.data\n",
    "print('w的估计误差：', true_w - w.reshape(true_w.shape))\n",
    "b = net[0].bias.data\n",
    "print('b的估计误差：', true_b - b)"
   ]
  },
  {
   "cell_type": "markdown",
   "id": "62653b0c-498c-42d5-bbbe-20a9d675793e",
   "metadata": {
    "jupyter": {
     "source_hidden": true
    }
   },
   "source": [
    "在深度学习和线性代数中，标量、向量和张量分别是不同维度的数据结构，具体来说：\n",
    "\n",
    "### 1. 标量（Scalar）\n",
    "\n",
    "- **定义**：标量是只有一个数值的量，即单一的数，没有方向。\n",
    "- **维度**：标量是 0 维的。\n",
    "- **表示**：通常用单个数值表示，例如 `5`、`-3.2`。\n",
    "- **示例**：温度、时间、质量等可以用一个数值表示的量。\n",
    "\n",
    "### 2. 向量（Vector）\n",
    "\n",
    "- **定义**：向量是一组按顺序排列的数值，可以看作是具有大小和方向的量。\n",
    "- **维度**：向量是 1 维的。\n",
    "- **表示**：用一组数值组成的数组来表示，如 `[1, 2, 3]` 或 `[-0.5, 2.3]`。\n",
    "- **示例**：一个二维向量 `[3, 4]` 表示了 x 和 y 方向上的分量；也可以用于描述特征数据，如一个人的身高和体重 `[180, 75]`。\n",
    "\n",
    "### 3. 张量（Tensor）\n",
    "\n",
    "- **定义**：张量是一个多维数组，可以包含标量、向量或更高维的结构。广义上，张量是 n 维的扩展。\n",
    "- **维度**：张量的维度可以是 0 维（标量）、1 维（向量）、2 维（矩阵）或更高维。\n",
    "- **表示**：可以用 n 维数组表示。\n",
    "  - **2 维张量**：如矩阵 `[[1, 2, 3], [4, 5, 6]]`，有行和列。\n",
    "  - **3 维张量**：如 `[[[1, 2], [3, 4]], [[5, 6], [7, 8]]]`，常用于图像数据等。\n",
    "  - **n 维张量**：更高维的张量可以表示复杂的数据结构。\n",
    "- **示例**：在深度学习中，图像数据通常表示为 3D 张量（高、宽、通道），视频数据可以表示为 4D 张量（帧数、高、宽、通道）。\n",
    "\n",
    "### 区别总结\n",
    "\n",
    "- **标量**是单个数（0 维），**向量**是一维数组（1 维），**张量**是 n 维数组，可以是标量、向量、矩阵的推广。"
   ]
  },
  {
   "attachments": {},
   "cell_type": "markdown",
   "id": "c8f1cf71-8ec2-464f-9c39-cc1c60a2b508",
   "metadata": {},
   "source": []
  }
 ],
 "metadata": {
  "kernelspec": {
   "display_name": "Python 3 (ipykernel)",
   "language": "python",
   "name": "python3"
  },
  "language_info": {
   "codemirror_mode": {
    "name": "ipython",
    "version": 3
   },
   "file_extension": ".py",
   "mimetype": "text/x-python",
   "name": "python",
   "nbconvert_exporter": "python",
   "pygments_lexer": "ipython3",
   "version": "3.8.20"
  }
 },
 "nbformat": 4,
 "nbformat_minor": 5
}

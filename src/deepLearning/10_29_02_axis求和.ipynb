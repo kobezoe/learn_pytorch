{
 "cells": [
  {
   "cell_type": "code",
   "execution_count": 1,
   "id": "b87eb3be-5da0-4979-b2e5-86ec32887f2d",
   "metadata": {},
   "outputs": [],
   "source": [
    "import torch"
   ]
  },
  {
   "cell_type": "code",
   "execution_count": 17,
   "id": "c352d730-8bcd-4bd1-9dac-6321472b6fd1",
   "metadata": {},
   "outputs": [],
   "source": [
    "a = torch.ones((2,5,4))"
   ]
  },
  {
   "cell_type": "code",
   "execution_count": null,
   "id": "c442b719-5c3b-45e7-8bf6-df0b1979ed56",
   "metadata": {},
   "outputs": [],
   "source": [
    "a.shape"
   ]
  },
  {
   "cell_type": "code",
   "execution_count": null,
   "id": "53ecca48-9116-4e3c-93db-eb2945a4e5f0",
   "metadata": {},
   "outputs": [],
   "source": [
    "# 按照谁求sum 就只剩另外的"
   ]
  },
  {
   "cell_type": "code",
   "execution_count": 23,
   "id": "c40c2661-3124-4a77-aecb-63539262d192",
   "metadata": {},
   "outputs": [
    {
     "data": {
      "text/plain": [
       "torch.Size([5])"
      ]
     },
     "execution_count": 23,
     "metadata": {},
     "output_type": "execute_result"
    }
   ],
   "source": [
    "a.sum(axis=[0,2]).shape"
   ]
  },
  {
   "cell_type": "code",
   "execution_count": null,
   "id": "d97f28c3-4b0a-4c8f-b967-aa05baa6ebff",
   "metadata": {},
   "outputs": [],
   "source": [
    "# 加上参数keepdims 按照谁求sum 将其置为1.其余的不变"
   ]
  },
  {
   "cell_type": "code",
   "execution_count": 25,
   "id": "14f8b26b-9c67-4955-bcd6-c23ec2a0316d",
   "metadata": {},
   "outputs": [
    {
     "data": {
      "text/plain": [
       "torch.Size([2, 1, 4])"
      ]
     },
     "execution_count": 25,
     "metadata": {},
     "output_type": "execute_result"
    }
   ],
   "source": [
    "a.sum(axis=1,keepdims=True).shape"
   ]
  },
  {
   "cell_type": "code",
   "execution_count": null,
   "id": "3e434556-0fc1-47c5-b4d3-f98d66f7e355",
   "metadata": {},
   "outputs": [],
   "source": []
  }
 ],
 "metadata": {
  "kernelspec": {
   "display_name": "Python 3 (ipykernel)",
   "language": "python",
   "name": "python3"
  },
  "language_info": {
   "codemirror_mode": {
    "name": "ipython",
    "version": 3
   },
   "file_extension": ".py",
   "mimetype": "text/x-python",
   "name": "python",
   "nbconvert_exporter": "python",
   "pygments_lexer": "ipython3",
   "version": "3.12.4"
  }
 },
 "nbformat": 4,
 "nbformat_minor": 5
}

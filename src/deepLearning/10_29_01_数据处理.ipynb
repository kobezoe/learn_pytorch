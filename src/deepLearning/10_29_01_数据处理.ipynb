{
 "cells": [
  {
   "cell_type": "code",
   "execution_count": 1,
   "id": "ded3eced-490f-4f15-b57f-a07270c8e9d2",
   "metadata": {},
   "outputs": [],
   "source": [
    "import torch"
   ]
  },
  {
   "cell_type": "code",
   "execution_count": 3,
   "id": "31a8450e-4cc7-4c51-8e08-81e68ffb428f",
   "metadata": {},
   "outputs": [
    {
     "data": {
      "text/plain": [
       "tensor([ 0,  1,  2,  3,  4,  5,  6,  7,  8,  9, 10, 11])"
      ]
     },
     "execution_count": 3,
     "metadata": {},
     "output_type": "execute_result"
    }
   ],
   "source": [
    "x = torch.arange(12)\n",
    "x"
   ]
  },
  {
   "cell_type": "code",
   "execution_count": 5,
   "id": "4dfabaf5-33bc-4819-b82a-2cc8da370578",
   "metadata": {},
   "outputs": [
    {
     "name": "stdout",
     "output_type": "stream",
     "text": [
      "tensor([[ 0.,  1.,  2.,  3.],\n",
      "        [ 4.,  5.,  6.,  7.],\n",
      "        [ 8.,  9., 10., 11.]])\n"
     ]
    },
    {
     "data": {
      "text/plain": [
       "tensor([[ 0.,  1.,  2.,  3.,  2.,  1.,  4.,  3.],\n",
       "        [ 4.,  5.,  6.,  7.,  1.,  2.,  3.,  4.],\n",
       "        [ 8.,  9., 10., 11.,  4.,  3.,  2.,  1.]])"
      ]
     },
     "execution_count": 5,
     "metadata": {},
     "output_type": "execute_result"
    }
   ],
   "source": [
    "x = torch.arange(12, dtype=torch.float32).reshape((3,4))\n",
    "print(x)\n",
    "y = torch.tensor([[2.0,1,4,3],[1,2,3,4],[4,3,2,1]])\n",
    "# 将张量按照行方合并\n",
    "torch.cat((x,y),dim=0)\n",
    "# 将张量按照列方合并\n"
   ]
  },
  {
   "cell_type": "code",
   "execution_count": 7,
   "id": "97bf7321-965d-4280-b782-fccaa5d17dbf",
   "metadata": {},
   "outputs": [
    {
     "data": {
      "text/plain": [
       "tensor([[ 0.,  1.,  2.,  3.,  2.,  1.,  4.,  3.],\n",
       "        [ 4.,  5.,  6.,  7.,  1.,  2.,  3.,  4.],\n",
       "        [ 8.,  9., 10., 11.,  4.,  3.,  2.,  1.]])"
      ]
     },
     "execution_count": 7,
     "metadata": {},
     "output_type": "execute_result"
    }
   ],
   "source": [
    "torch.cat((x,y),dim=1)"
   ]
  },
  {
   "cell_type": "code",
   "execution_count": 9,
   "id": "866bb8ac-fcf1-4d14-be65-20e3b626f7df",
   "metadata": {
    "scrolled": true
   },
   "outputs": [
    {
     "data": {
      "text/plain": [
       "tensor([[ 0.,  1.,  2.,  3.],\n",
       "        [ 4.,  5.,  6.,  7.],\n",
       "        [ 8.,  9., 10., 11.],\n",
       "        [ 2.,  1.,  4.,  3.],\n",
       "        [ 1.,  2.,  3.,  4.],\n",
       "        [ 4.,  3.,  2.,  1.]])"
      ]
     },
     "execution_count": 9,
     "metadata": {},
     "output_type": "execute_result"
    }
   ],
   "source": [
    "torch.cat((x,y),dim=0)"
   ]
  },
  {
   "cell_type": "code",
   "execution_count": null,
   "id": "0a17d54e-5112-4ed1-8473-8ad026112977",
   "metadata": {},
   "outputs": [],
   "source": [
    "# 判断张量是否相等 用逻辑构建一个新的张量"
   ]
  },
  {
   "cell_type": "code",
   "execution_count": 11,
   "id": "b1ce3c1c-16c3-4660-afed-0b2b13930823",
   "metadata": {
    "scrolled": true
   },
   "outputs": [
    {
     "data": {
      "text/plain": [
       "tensor([[False,  True, False,  True],\n",
       "        [False, False, False, False],\n",
       "        [False, False, False, False]])"
      ]
     },
     "execution_count": 11,
     "metadata": {},
     "output_type": "execute_result"
    }
   ],
   "source": [
    "x == y"
   ]
  },
  {
   "cell_type": "code",
   "execution_count": null,
   "id": "d79aca75-9a80-4434-b071-49516fdf1ee2",
   "metadata": {},
   "outputs": [],
   "source": [
    "# 广播机制，不同的张量之间相加，或许不会得到想要的结果"
   ]
  },
  {
   "cell_type": "code",
   "execution_count": 15,
   "id": "1c8ea353-08ed-4fc9-b904-7fe8c2c807e9",
   "metadata": {},
   "outputs": [],
   "source": [
    "a = torch.arange(3).reshape((3,1))"
   ]
  },
  {
   "cell_type": "code",
   "execution_count": 33,
   "id": "5fb779db-7649-4721-bac4-19e75eea485d",
   "metadata": {},
   "outputs": [],
   "source": [
    "b = torch.arange(2).reshape((1,2))"
   ]
  },
  {
   "cell_type": "code",
   "execution_count": 35,
   "id": "42c466fb-aec1-4e02-b33e-3fbc4373ecba",
   "metadata": {},
   "outputs": [
    {
     "data": {
      "text/plain": [
       "tensor([[0, 1],\n",
       "        [1, 2],\n",
       "        [2, 3]])"
      ]
     },
     "execution_count": 35,
     "metadata": {},
     "output_type": "execute_result"
    }
   ],
   "source": [
    "a + b"
   ]
  },
  {
   "cell_type": "code",
   "execution_count": null,
   "id": "ecf7ed05-4807-40e2-bf62-8917eee79a25",
   "metadata": {},
   "outputs": [],
   "source": [
    "# x[-1]：访问最后一行  x[1:3]：访问第一行，第二行   x[0:2，：] = 12 ：第一行，第二行全选赋值12"
   ]
  },
  {
   "cell_type": "code",
   "execution_count": 39,
   "id": "a485dc4c-f626-4b40-9628-28c6e2881bbe",
   "metadata": {},
   "outputs": [],
   "source": [
    "A = x.numpy()"
   ]
  },
  {
   "cell_type": "code",
   "execution_count": 41,
   "id": "10f29121-36a2-4767-9b78-6605b3772ac5",
   "metadata": {},
   "outputs": [],
   "source": [
    "B = torch.tensor(A)"
   ]
  },
  {
   "cell_type": "code",
   "execution_count": 43,
   "id": "9bc452b6-f3a0-4c8d-b531-53a383982426",
   "metadata": {},
   "outputs": [
    {
     "data": {
      "text/plain": [
       "(numpy.ndarray, torch.Tensor)"
      ]
     },
     "execution_count": 43,
     "metadata": {},
     "output_type": "execute_result"
    }
   ],
   "source": [
    "type(A),type(B)"
   ]
  },
  {
   "cell_type": "code",
   "execution_count": 45,
   "id": "5c023fe1-15b4-4680-834c-91e44b34969f",
   "metadata": {},
   "outputs": [
    {
     "name": "stdout",
     "output_type": "stream",
     "text": [
      "[[ 0.  1.  2.  3.]\n",
      " [ 4.  5.  6.  7.]\n",
      " [ 8.  9. 10. 11.]]\n"
     ]
    }
   ],
   "source": [
    "print(A)"
   ]
  },
  {
   "cell_type": "code",
   "execution_count": 47,
   "id": "e4ca7e41-b93a-4860-86a4-2750787d7dbb",
   "metadata": {},
   "outputs": [
    {
     "name": "stdout",
     "output_type": "stream",
     "text": [
      "Collecting pandas\n",
      "  Using cached pandas-2.0.3-cp38-cp38-win_amd64.whl.metadata (18 kB)\n",
      "Collecting python-dateutil>=2.8.2 (from pandas)\n",
      "  Using cached python_dateutil-2.9.0.post0-py2.py3-none-any.whl.metadata (8.4 kB)\n",
      "Collecting pytz>=2020.1 (from pandas)\n",
      "  Using cached pytz-2024.2-py2.py3-none-any.whl.metadata (22 kB)\n",
      "Collecting tzdata>=2022.1 (from pandas)\n",
      "  Using cached tzdata-2024.2-py2.py3-none-any.whl.metadata (1.4 kB)\n",
      "Requirement already satisfied: numpy>=1.20.3 in e:\\anaconda\\envs\\hdy_learntorch\\lib\\site-packages (from pandas) (1.24.1)\n",
      "Requirement already satisfied: six>=1.5 in e:\\anaconda\\envs\\hdy_learntorch\\lib\\site-packages (from python-dateutil>=2.8.2->pandas) (1.16.0)\n",
      "Downloading pandas-2.0.3-cp38-cp38-win_amd64.whl (10.8 MB)\n",
      "   ---------------------------------------- 0.0/10.8 MB ? eta -:--:--\n",
      "   ---------------------------------------- 0.0/10.8 MB ? eta -:--:--\n",
      "   ---------------------------------------- 0.0/10.8 MB ? eta -:--:--\n",
      "    --------------------------------------- 0.3/10.8 MB ? eta -:--:--\n",
      "    --------------------------------------- 0.3/10.8 MB ? eta -:--:--\n",
      "   -- ------------------------------------- 0.8/10.8 MB 1.2 MB/s eta 0:00:09\n",
      "   --- ------------------------------------ 1.0/10.8 MB 1.4 MB/s eta 0:00:07\n",
      "   --------- ------------------------------ 2.6/10.8 MB 2.8 MB/s eta 0:00:03\n",
      "   ------------ --------------------------- 3.4/10.8 MB 3.0 MB/s eta 0:00:03\n",
      "   -------------- ------------------------- 3.9/10.8 MB 3.0 MB/s eta 0:00:03\n",
      "   --------------- ------------------------ 4.2/10.8 MB 2.7 MB/s eta 0:00:03\n",
      "   ---------------- ----------------------- 4.5/10.8 MB 2.6 MB/s eta 0:00:03\n",
      "   ----------------- ---------------------- 4.7/10.8 MB 2.5 MB/s eta 0:00:03\n",
      "   ------------------ --------------------- 5.0/10.8 MB 2.5 MB/s eta 0:00:03\n",
      "   -------------------- ------------------- 5.5/10.8 MB 2.3 MB/s eta 0:00:03\n",
      "   -------------------- ------------------- 5.5/10.8 MB 2.3 MB/s eta 0:00:03\n",
      "   ---------------------- ----------------- 6.0/10.8 MB 2.2 MB/s eta 0:00:03\n",
      "   ----------------------- ---------------- 6.3/10.8 MB 2.1 MB/s eta 0:00:03\n",
      "   ------------------------- -------------- 6.8/10.8 MB 2.2 MB/s eta 0:00:02\n",
      "   -------------------------- ------------- 7.1/10.8 MB 2.1 MB/s eta 0:00:02\n",
      "   ---------------------------- ----------- 7.6/10.8 MB 2.1 MB/s eta 0:00:02\n",
      "   ----------------------------- ---------- 7.9/10.8 MB 2.1 MB/s eta 0:00:02\n",
      "   ------------------------------- -------- 8.4/10.8 MB 2.1 MB/s eta 0:00:02\n",
      "   ------------------------------- -------- 8.4/10.8 MB 2.1 MB/s eta 0:00:02\n",
      "   --------------------------------- ------ 8.9/10.8 MB 2.0 MB/s eta 0:00:01\n",
      "   ---------------------------------- ----- 9.2/10.8 MB 2.0 MB/s eta 0:00:01\n",
      "   ---------------------------------- ----- 9.2/10.8 MB 2.0 MB/s eta 0:00:01\n",
      "   ----------------------------------- ---- 9.4/10.8 MB 1.9 MB/s eta 0:00:01\n",
      "   ----------------------------------- ---- 9.7/10.8 MB 1.8 MB/s eta 0:00:01\n",
      "   ------------------------------------ --- 10.0/10.8 MB 1.8 MB/s eta 0:00:01\n",
      "   ------------------------------------- -- 10.2/10.8 MB 1.8 MB/s eta 0:00:01\n",
      "   -------------------------------------- - 10.5/10.8 MB 1.8 MB/s eta 0:00:01\n",
      "   ---------------------------------------- 10.8/10.8 MB 1.8 MB/s eta 0:00:00\n",
      "Downloading python_dateutil-2.9.0.post0-py2.py3-none-any.whl (229 kB)\n",
      "Downloading pytz-2024.2-py2.py3-none-any.whl (508 kB)\n",
      "Downloading tzdata-2024.2-py2.py3-none-any.whl (346 kB)\n",
      "Installing collected packages: pytz, tzdata, python-dateutil, pandas\n",
      "Successfully installed pandas-2.0.3 python-dateutil-2.9.0.post0 pytz-2024.2 tzdata-2024.2\n"
     ]
    }
   ],
   "source": [
    "!pip install pandas"
   ]
  },
  {
   "cell_type": "code",
   "execution_count": 55,
   "id": "98a6d5cb-b466-4e1f-90ec-fc4ce10f14b3",
   "metadata": {},
   "outputs": [],
   "source": [
    "import os\n",
    "os.makedirs(os.path.join('..', 'data'), exist_ok=True)\n",
    "data_file = os.path.join('..', 'data', 'house_tiny.csv')\n",
    "with open(data_file, 'w') as f:\n",
    "    f.write('NumRooms,Alley,Price\\n') # 列名\n",
    "    f.write('NA,Pave,127500\\n') # 每行表示一个数据样本\n",
    "    f.write('2,NA,106000\\n')\n",
    "    f.write('4,NA,178100\\n')\n",
    "    f.write('NA,NA,140000\\n')"
   ]
  },
  {
   "cell_type": "code",
   "execution_count": 48,
   "id": "1578c37e-fb55-4946-957d-67bf10f0cb6d",
   "metadata": {},
   "outputs": [],
   "source": [
    "import pandas as pd"
   ]
  },
  {
   "cell_type": "code",
   "execution_count": 57,
   "id": "46fdc73c-833c-4439-acc5-582268a78329",
   "metadata": {},
   "outputs": [],
   "source": [
    "data = pd.read_csv(data_file)"
   ]
  },
  {
   "cell_type": "code",
   "execution_count": 59,
   "id": "18ebb397-2914-4e66-a8f5-fc0603ea45ea",
   "metadata": {},
   "outputs": [
    {
     "name": "stdout",
     "output_type": "stream",
     "text": [
      "   NumRooms Alley   Price\n",
      "0       NaN  Pave  127500\n",
      "1       2.0   NaN  106000\n",
      "2       4.0   NaN  178100\n",
      "3       NaN   NaN  140000\n"
     ]
    }
   ],
   "source": [
    "print(data)"
   ]
  },
  {
   "cell_type": "code",
   "execution_count": 61,
   "id": "0306b349-8a53-4531-90f9-f9e2f3303961",
   "metadata": {},
   "outputs": [
    {
     "data": {
      "text/html": [
       "<div>\n",
       "<style scoped>\n",
       "    .dataframe tbody tr th:only-of-type {\n",
       "        vertical-align: middle;\n",
       "    }\n",
       "\n",
       "    .dataframe tbody tr th {\n",
       "        vertical-align: top;\n",
       "    }\n",
       "\n",
       "    .dataframe thead th {\n",
       "        text-align: right;\n",
       "    }\n",
       "</style>\n",
       "<table border=\"1\" class=\"dataframe\">\n",
       "  <thead>\n",
       "    <tr style=\"text-align: right;\">\n",
       "      <th></th>\n",
       "      <th>NumRooms</th>\n",
       "      <th>Alley</th>\n",
       "      <th>Price</th>\n",
       "    </tr>\n",
       "  </thead>\n",
       "  <tbody>\n",
       "    <tr>\n",
       "      <th>0</th>\n",
       "      <td>NaN</td>\n",
       "      <td>Pave</td>\n",
       "      <td>127500</td>\n",
       "    </tr>\n",
       "    <tr>\n",
       "      <th>1</th>\n",
       "      <td>2.0</td>\n",
       "      <td>NaN</td>\n",
       "      <td>106000</td>\n",
       "    </tr>\n",
       "    <tr>\n",
       "      <th>2</th>\n",
       "      <td>4.0</td>\n",
       "      <td>NaN</td>\n",
       "      <td>178100</td>\n",
       "    </tr>\n",
       "    <tr>\n",
       "      <th>3</th>\n",
       "      <td>NaN</td>\n",
       "      <td>NaN</td>\n",
       "      <td>140000</td>\n",
       "    </tr>\n",
       "  </tbody>\n",
       "</table>\n",
       "</div>"
      ],
      "text/plain": [
       "   NumRooms Alley   Price\n",
       "0       NaN  Pave  127500\n",
       "1       2.0   NaN  106000\n",
       "2       4.0   NaN  178100\n",
       "3       NaN   NaN  140000"
      ]
     },
     "execution_count": 61,
     "metadata": {},
     "output_type": "execute_result"
    }
   ],
   "source": [
    "data"
   ]
  },
  {
   "cell_type": "code",
   "execution_count": 63,
   "id": "bfe36bd0-e75d-4daa-8010-06469ff35a0b",
   "metadata": {},
   "outputs": [],
   "source": [
    "# 插值 处理缺失问题"
   ]
  },
  {
   "cell_type": "code",
   "execution_count": 78,
   "id": "469022ea-f99c-4804-9f9d-e95f8a36f722",
   "metadata": {},
   "outputs": [],
   "source": [
    "inputs,outputs = data.iloc[:,0:2],data.iloc[:,2]"
   ]
  },
  {
   "cell_type": "code",
   "execution_count": 82,
   "id": "c61ced76-9541-4b78-975f-78b782ef98a2",
   "metadata": {},
   "outputs": [],
   "source": [
    "# inputs = inputs.fillna(inputs.mean())"
   ]
  },
  {
   "cell_type": "code",
   "execution_count": 104,
   "id": "83c9233c-4522-46b2-81eb-4bb85e0b0b81",
   "metadata": {},
   "outputs": [],
   "source": [
    "inputs = pd.get_dummies(inputs,dummy_na = True,dtype=int)\n"
   ]
  },
  {
   "cell_type": "code",
   "execution_count": 106,
   "id": "388dd254-1f6e-4e09-8c80-fbbb37415b6a",
   "metadata": {},
   "outputs": [
    {
     "name": "stdout",
     "output_type": "stream",
     "text": [
      "   NumRooms  Alley_Pave  Alley_nan\n",
      "0       NaN        True      False\n",
      "1       2.0       False       True\n",
      "2       4.0       False       True\n",
      "3       NaN       False       True\n"
     ]
    }
   ],
   "source": [
    "print(inputs)"
   ]
  },
  {
   "cell_type": "code",
   "execution_count": null,
   "id": "c75c8a1f-c938-42cf-8bdf-f35cf64898c8",
   "metadata": {},
   "outputs": [],
   "source": []
  }
 ],
 "metadata": {
  "kernelspec": {
   "display_name": "Python 3 (ipykernel)",
   "language": "python",
   "name": "python3"
  },
  "language_info": {
   "codemirror_mode": {
    "name": "ipython",
    "version": 3
   },
   "file_extension": ".py",
   "mimetype": "text/x-python",
   "name": "python",
   "nbconvert_exporter": "python",
   "pygments_lexer": "ipython3",
   "version": "3.12.4"
  }
 },
 "nbformat": 4,
 "nbformat_minor": 5
}
